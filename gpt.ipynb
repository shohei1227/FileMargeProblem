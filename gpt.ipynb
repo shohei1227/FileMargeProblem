{
 "cells": [
  {
   "cell_type": "code",
   "execution_count": 1,
   "metadata": {},
   "outputs": [
    {
     "name": "stdout",
     "output_type": "stream",
     "text": [
      "Restricted license - for non-production use only - expires 2024-10-28\n"
     ]
    }
   ],
   "source": [
    "# Import\n",
    "import math\n",
    "import numpy as np\n",
    "import pandas as pd\n",
    "from gurobipy import Model, GRB, quicksum\n",
    "\n",
    "\n",
    "# Dataの定義\n",
    "IncomeData = np.array([\n",
    "    [20, 10000, 3, \"Commerce\", 0],\n",
    "    [30, 15500, 2, \"Agriculture\", 1000], \n",
    "    [25, 20000, 5, \"Agriculture\", 1000], \n",
    "    [18, 25000, 4, \"Commerce\", 3000],\n",
    "    [32, 15000, 3, \"Commerce\", 500]\n",
    "    ])\n",
    "\n",
    "PopulationData = np.array([\n",
    "    [25, 15000, 4, 40, 12, \"M\", 2],\n",
    "    [30, 15000, 2, 25, 16, \"M\", 0],\n",
    "    [18, 20000, 1, 30, 18, \"F\", 0],\n",
    "    [27, 25000, 2, 35, 16, \"F\", 1],\n",
    "    [25, 20000, 4, 25, 12, \"M\", 1],\n",
    "    ])\n",
    "\n",
    "model = Model()\n",
    "\n",
    "## No. of Families\n",
    "N_i = IncomeData[:, 0].astype(int)\n",
    "N_j = PopulationData[:, 0].astype(int)\n",
    "\n",
    "## Gross Family Income\n",
    "G_i = IncomeData[:, 1].astype(int)\n",
    "G_j = PopulationData[:, 1].astype(int)\n",
    "\n",
    "## No. of Family Members\n",
    "M_i = IncomeData[:, 2].astype(int)\n",
    "M_j = PopulationData[:, 2].astype(int)\n",
    "\n",
    "## 分散\n",
    "s_G = np.var(np.concatenate([G_i, G_j])) # Gross\n",
    "s_M = np.var(np.concatenate([M_i, M_j])) # Member\n",
    "    \n",
    "S = [(0, 0), (4, 0), (4, 1)]\n",
    "# x_ij = [[20, 0, 0, 0, 0], [0, 0, 0, 0, 0], [0, 0, 0, 0, 0], [0, 0, 0, 0, 0], [5, 5, 0, 0, 0]]\n",
    "x_ij = {(i, j): model.addVar(vtype=GRB.INTEGER) for i in range(5) for j in range(5)}\n",
    "d_ij = {(i, j): model.addVar(vtype=GRB.CONTINUOUS) for i in range(5) for j in range(5)}\n",
    "\n"
   ]
  },
  {
   "cell_type": "code",
   "execution_count": 2,
   "metadata": {},
   "outputs": [],
   "source": [
    "\n",
    "model.addConstrs((quicksum(x_ij[i, j] for j in range(5)) - N_i[i] == 0 for i in [e[0] for e in S]))\n",
    "\n",
    "## Σx_ij = N_j\n",
    "model.addConstrs((quicksum(x_ij[i, j] for i in range(5)) - N_j[j] == 0 for j in [e[1] for e in S]))\n",
    "\n",
    "## x_ij >= 0\n",
    "model.addConstrs((x_ij[i, j] >= 0 for j in [e[1] for e in S] for i in [e[0] for e in S]))\n",
    "\n",
    "# d\n",
    "model.addConstrs(d_ij[i, j] == math.sqrt((G_i[i]-G_j[j])**2/s_G+(M_i[i]-M_j[j])**2/s_M) for i in [e[0] for e in S] for j in [e[1] for e in S])\n",
    "## No. of Families\n",
    "# N_i = IncomeData[:, 0].astype(int)\n",
    "# N_j = PopulationData[:, 0].astype(int)\n",
    "# i_star = next((index for index, value in enumerate(N_i) if value > 0), None)\n",
    "# j_star = next((index for index, value in enumerate(N_j) if value > 0), None)\n",
    "model.update()"
   ]
  },
  {
   "cell_type": "code",
   "execution_count": 3,
   "metadata": {},
   "outputs": [
    {
     "name": "stdout",
     "output_type": "stream",
     "text": [
      "Gurobi Optimizer version 10.0.3 build v10.0.3rc0 (mac64[rosetta2])\n",
      "\n",
      "CPU model: Apple M1\n",
      "Thread count: 8 physical cores, 8 logical processors, using up to 8 threads\n",
      "\n",
      "Optimize a model with 24 rows, 50 columns and 48 nonzeros\n",
      "Model fingerprint: 0x809b14b3\n",
      "Model has 3 quadratic objective terms\n",
      "Variable types: 25 continuous, 25 integer (0 binary)\n",
      "Coefficient statistics:\n",
      "  Matrix range     [1e+00, 1e+00]\n",
      "  Objective range  [0e+00, 0e+00]\n",
      "  QObjective range [2e+00, 2e+00]\n",
      "  Bounds range     [0e+00, 0e+00]\n",
      "  RHS range        [8e-01, 3e+01]\n",
      "Found heuristic solution: objective 21.1288564\n",
      "Presolve removed 24 rows and 50 columns\n",
      "Presolve time: 0.00s\n",
      "Presolve: All rows and columns removed\n",
      "\n",
      "Explored 0 nodes (0 simplex iterations) in 0.01 seconds (0.00 work units)\n",
      "Thread count was 1 (of 8 available processors)\n",
      "\n",
      "Solution count 2: 0 21.1289 \n",
      "\n",
      "Optimal solution found (tolerance 1.00e-04)\n",
      "Best objective 0.000000000000e+00, best bound 0.000000000000e+00, gap 0.0000%\n"
     ]
    }
   ],
   "source": [
    "model.setObjective(quicksum(d_ij[i,j]*x_ij[i,j] for i, j in S),GRB.MINIMIZE); #目的関数の追加\n",
    "\n",
    "model.optimize()"
   ]
  },
  {
   "cell_type": "code",
   "execution_count": 4,
   "metadata": {},
   "outputs": [
    {
     "name": "stdout",
     "output_type": "stream",
     "text": [
      "Opt.value= 0.0\n",
      "x_ij[ 0 ][ 0 ]= -0.0\n",
      "x_ij[ 0 ][ 1 ]= -0.0\n",
      "x_ij[ 0 ][ 2 ]= 20.0\n",
      "x_ij[ 0 ][ 3 ]= -0.0\n",
      "x_ij[ 0 ][ 4 ]= -0.0\n",
      "x_ij[ 1 ][ 0 ]= 25.0\n",
      "x_ij[ 1 ][ 1 ]= 30.0\n",
      "x_ij[ 1 ][ 2 ]= -0.0\n",
      "x_ij[ 1 ][ 3 ]= -0.0\n",
      "x_ij[ 1 ][ 4 ]= -0.0\n",
      "x_ij[ 2 ][ 0 ]= -0.0\n",
      "x_ij[ 2 ][ 1 ]= -0.0\n",
      "x_ij[ 2 ][ 2 ]= -0.0\n",
      "x_ij[ 2 ][ 3 ]= -0.0\n",
      "x_ij[ 2 ][ 4 ]= -0.0\n",
      "x_ij[ 3 ][ 0 ]= -0.0\n",
      "x_ij[ 3 ][ 1 ]= -0.0\n",
      "x_ij[ 3 ][ 2 ]= -0.0\n",
      "x_ij[ 3 ][ 3 ]= -0.0\n",
      "x_ij[ 3 ][ 4 ]= -0.0\n",
      "x_ij[ 4 ][ 0 ]= -0.0\n",
      "x_ij[ 4 ][ 1 ]= -0.0\n",
      "x_ij[ 4 ][ 2 ]= -0.0\n",
      "x_ij[ 4 ][ 3 ]= -0.0\n",
      "x_ij[ 4 ][ 4 ]= 32.0\n"
     ]
    }
   ],
   "source": [
    "#最適値の出力\n",
    "print(\"Opt.value=\",model.objval)\n",
    "\n",
    "for i in range(5): #最適解の出力\n",
    "    for j in range(5):\n",
    "        print(\"x_ij[\",i,\"][\",j,\"]=\",x_ij[i,j].X)"
   ]
  },
  {
   "cell_type": "code",
   "execution_count": null,
   "metadata": {},
   "outputs": [],
   "source": []
  }
 ],
 "metadata": {
  "kernelspec": {
   "display_name": "base",
   "language": "python",
   "name": "python3"
  },
  "language_info": {
   "codemirror_mode": {
    "name": "ipython",
    "version": 3
   },
   "file_extension": ".py",
   "mimetype": "text/x-python",
   "name": "python",
   "nbconvert_exporter": "python",
   "pygments_lexer": "ipython3",
   "version": "3.10.9"
  }
 },
 "nbformat": 4,
 "nbformat_minor": 2
}
