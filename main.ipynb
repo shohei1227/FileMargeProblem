{
 "cells": [
  {
   "cell_type": "markdown",
   "metadata": {},
   "source": [
    "# AIMMS Chap.19\n",
    "**2024.01.24**"
   ]
  },
  {
   "cell_type": "code",
   "execution_count": 116,
   "metadata": {},
   "outputs": [],
   "source": [
    "# Import\n",
    "import math\n",
    "import numpy as np\n",
    "import pandas as pd\n",
    "\n",
    "from gurobipy import Model, GRB, quicksum"
   ]
  },
  {
   "cell_type": "code",
   "execution_count": 117,
   "metadata": {},
   "outputs": [],
   "source": [
    "# Dataの定義\n",
    "IncomeData = np.array([\n",
    "    [20, 10000, 3, \"Commerce\", 0],\n",
    "    [30, 15500, 2, \"Agriculture\", 1000], \n",
    "    [25, 20000, 5, \"Agriculture\", 1000], \n",
    "    [18, 25000, 4, \"Commerce\", 3000],\n",
    "    [32, 15000, 3, \"Commerce\", 500]\n",
    "    ])\n",
    "\n",
    "PopulationData = np.array([\n",
    "    [25, 15000, 4, 40, 12, \"M\", 2],\n",
    "    [30, 15000, 2, 25, 16, \"M\", 0],\n",
    "    [18, 20000, 1, 30, 18, \"F\", 0],\n",
    "    [27, 25000, 2, 35, 16, \"F\", 1],\n",
    "    [25, 20000, 4, 25, 12, \"M\", 1],\n",
    "    ])"
   ]
  },
  {
   "cell_type": "code",
   "execution_count": 118,
   "metadata": {},
   "outputs": [
    {
     "data": {
      "text/html": [
       "<div>\n",
       "<style scoped>\n",
       "    .dataframe tbody tr th:only-of-type {\n",
       "        vertical-align: middle;\n",
       "    }\n",
       "\n",
       "    .dataframe tbody tr th {\n",
       "        vertical-align: top;\n",
       "    }\n",
       "\n",
       "    .dataframe thead th {\n",
       "        text-align: right;\n",
       "    }\n",
       "</style>\n",
       "<table border=\"1\" class=\"dataframe\">\n",
       "  <thead>\n",
       "    <tr style=\"text-align: right;\">\n",
       "      <th></th>\n",
       "      <th>No. of Families</th>\n",
       "      <th>Gross Family Income</th>\n",
       "      <th>No. of Familiy Members</th>\n",
       "      <th>Source of Income</th>\n",
       "      <th>Interest Income</th>\n",
       "    </tr>\n",
       "  </thead>\n",
       "  <tbody>\n",
       "    <tr>\n",
       "      <th>0</th>\n",
       "      <td>20</td>\n",
       "      <td>10000</td>\n",
       "      <td>3</td>\n",
       "      <td>Commerce</td>\n",
       "      <td>0</td>\n",
       "    </tr>\n",
       "    <tr>\n",
       "      <th>1</th>\n",
       "      <td>30</td>\n",
       "      <td>15500</td>\n",
       "      <td>2</td>\n",
       "      <td>Agriculture</td>\n",
       "      <td>1000</td>\n",
       "    </tr>\n",
       "    <tr>\n",
       "      <th>2</th>\n",
       "      <td>25</td>\n",
       "      <td>20000</td>\n",
       "      <td>5</td>\n",
       "      <td>Agriculture</td>\n",
       "      <td>1000</td>\n",
       "    </tr>\n",
       "    <tr>\n",
       "      <th>3</th>\n",
       "      <td>18</td>\n",
       "      <td>25000</td>\n",
       "      <td>4</td>\n",
       "      <td>Commerce</td>\n",
       "      <td>3000</td>\n",
       "    </tr>\n",
       "    <tr>\n",
       "      <th>4</th>\n",
       "      <td>32</td>\n",
       "      <td>15000</td>\n",
       "      <td>3</td>\n",
       "      <td>Commerce</td>\n",
       "      <td>500</td>\n",
       "    </tr>\n",
       "  </tbody>\n",
       "</table>\n",
       "</div>"
      ],
      "text/plain": [
       "  No. of Families Gross Family Income No. of Familiy Members Source of Income  \\\n",
       "0              20               10000                      3         Commerce   \n",
       "1              30               15500                      2      Agriculture   \n",
       "2              25               20000                      5      Agriculture   \n",
       "3              18               25000                      4         Commerce   \n",
       "4              32               15000                      3         Commerce   \n",
       "\n",
       "  Interest Income  \n",
       "0               0  \n",
       "1            1000  \n",
       "2            1000  \n",
       "3            3000  \n",
       "4             500  "
      ]
     },
     "execution_count": 118,
     "metadata": {},
     "output_type": "execute_result"
    }
   ],
   "source": [
    "pd.DataFrame(IncomeData, columns=[\"No. of Families\", \"Gross Family Income\", \"No. of Familiy Members\", \"Source of Income\", \"Interest Income\"])"
   ]
  },
  {
   "cell_type": "code",
   "execution_count": 119,
   "metadata": {},
   "outputs": [
    {
     "data": {
      "text/html": [
       "<div>\n",
       "<style scoped>\n",
       "    .dataframe tbody tr th:only-of-type {\n",
       "        vertical-align: middle;\n",
       "    }\n",
       "\n",
       "    .dataframe tbody tr th {\n",
       "        vertical-align: top;\n",
       "    }\n",
       "\n",
       "    .dataframe thead th {\n",
       "        text-align: right;\n",
       "    }\n",
       "</style>\n",
       "<table border=\"1\" class=\"dataframe\">\n",
       "  <thead>\n",
       "    <tr style=\"text-align: right;\">\n",
       "      <th></th>\n",
       "      <th>No. of Families</th>\n",
       "      <th>Gross Family Income</th>\n",
       "      <th>No. of Familiy Members</th>\n",
       "      <th>Head of Household(Age)</th>\n",
       "      <th>Head of Household(Education)</th>\n",
       "      <th>Head of Household(Sex)</th>\n",
       "      <th>No. of Familiy Members Under 18</th>\n",
       "    </tr>\n",
       "  </thead>\n",
       "  <tbody>\n",
       "    <tr>\n",
       "      <th>0</th>\n",
       "      <td>25</td>\n",
       "      <td>15000</td>\n",
       "      <td>4</td>\n",
       "      <td>40</td>\n",
       "      <td>12</td>\n",
       "      <td>M</td>\n",
       "      <td>2</td>\n",
       "    </tr>\n",
       "    <tr>\n",
       "      <th>1</th>\n",
       "      <td>30</td>\n",
       "      <td>15000</td>\n",
       "      <td>2</td>\n",
       "      <td>25</td>\n",
       "      <td>16</td>\n",
       "      <td>M</td>\n",
       "      <td>0</td>\n",
       "    </tr>\n",
       "    <tr>\n",
       "      <th>2</th>\n",
       "      <td>18</td>\n",
       "      <td>20000</td>\n",
       "      <td>1</td>\n",
       "      <td>30</td>\n",
       "      <td>18</td>\n",
       "      <td>F</td>\n",
       "      <td>0</td>\n",
       "    </tr>\n",
       "    <tr>\n",
       "      <th>3</th>\n",
       "      <td>27</td>\n",
       "      <td>25000</td>\n",
       "      <td>2</td>\n",
       "      <td>35</td>\n",
       "      <td>16</td>\n",
       "      <td>F</td>\n",
       "      <td>1</td>\n",
       "    </tr>\n",
       "    <tr>\n",
       "      <th>4</th>\n",
       "      <td>25</td>\n",
       "      <td>20000</td>\n",
       "      <td>4</td>\n",
       "      <td>25</td>\n",
       "      <td>12</td>\n",
       "      <td>M</td>\n",
       "      <td>1</td>\n",
       "    </tr>\n",
       "  </tbody>\n",
       "</table>\n",
       "</div>"
      ],
      "text/plain": [
       "  No. of Families Gross Family Income No. of Familiy Members  \\\n",
       "0              25               15000                      4   \n",
       "1              30               15000                      2   \n",
       "2              18               20000                      1   \n",
       "3              27               25000                      2   \n",
       "4              25               20000                      4   \n",
       "\n",
       "  Head of Household(Age) Head of Household(Education) Head of Household(Sex)  \\\n",
       "0                     40                           12                      M   \n",
       "1                     25                           16                      M   \n",
       "2                     30                           18                      F   \n",
       "3                     35                           16                      F   \n",
       "4                     25                           12                      M   \n",
       "\n",
       "  No. of Familiy Members Under 18  \n",
       "0                               2  \n",
       "1                               0  \n",
       "2                               0  \n",
       "3                               1  \n",
       "4                               1  "
      ]
     },
     "execution_count": 119,
     "metadata": {},
     "output_type": "execute_result"
    }
   ],
   "source": [
    "pd.DataFrame(PopulationData, columns=[\"No. of Families\", \"Gross Family Income\", \"No. of Familiy Members\", \"Head of Household(Age)\", \"Head of Household(Education)\", \"Head of Household(Sex)\", \"No. of Familiy Members Under 18\"])"
   ]
  },
  {
   "cell_type": "code",
   "execution_count": 120,
   "metadata": {},
   "outputs": [],
   "source": [
    "model = Model()"
   ]
  },
  {
   "cell_type": "code",
   "execution_count": 138,
   "metadata": {},
   "outputs": [],
   "source": [
    "# 添字\n",
    "\"\"\"\n",
    "i : supply nodes \n",
    "j : demand nodes \n",
    "\"\"\"\n",
    "# パラメータ\n",
    "## No. of Families\n",
    "N_i = IncomeData[:, 0].astype(int)\n",
    "N_j = PopulationData[:, 0].astype(int)\n",
    "\n",
    "## Gross Family Income\n",
    "G_i = IncomeData[:, 1].astype(int)\n",
    "G_j = PopulationData[:, 1].astype(int)\n",
    "\n",
    "## No. of Family Members\n",
    "M_i = IncomeData[:, 2].astype(int)\n",
    "M_j = PopulationData[:, 2].astype(int)\n",
    "\n",
    "## 分散\n",
    "s_G = np.var(np.concatenate([G_i, G_j])) # Gross\n",
    "s_M = np.var(np.concatenate([M_i, M_j])) # Member\n",
    "\n",
    "# 変数\n",
    "x_ij = {(i, j): model.addVar(vtype=GRB.INTEGER) for i in range(5) for j in range(5)}\n",
    "d_ij = {(i, j): model.addVar(vtype=GRB.CONTINUOUS) for i in range(5) for j in range(5)}\n"
   ]
  },
  {
   "cell_type": "code",
   "execution_count": 132,
   "metadata": {},
   "outputs": [
    {
     "name": "stdout",
     "output_type": "stream",
     "text": [
      "[10000 15500 20000 25000 15000]\n",
      "[15000 15000 20000 25000 20000]\n",
      "[25 30 18 27 25]\n",
      "[25 30 18 27 25]\n"
     ]
    }
   ],
   "source": [
    "print(G_i)\n",
    "print(G_j)\n",
    "print(N_j)\n",
    "print(N_j)\n"
   ]
  },
  {
   "cell_type": "code",
   "execution_count": 123,
   "metadata": {},
   "outputs": [
    {
     "data": {
      "text/plain": [
       "{(0, 0): <gurobi.Constr *Awaiting Model Update*>,\n",
       " (0, 1): <gurobi.Constr *Awaiting Model Update*>,\n",
       " (0, 2): <gurobi.Constr *Awaiting Model Update*>,\n",
       " (0, 3): <gurobi.Constr *Awaiting Model Update*>,\n",
       " (0, 4): <gurobi.Constr *Awaiting Model Update*>,\n",
       " (1, 0): <gurobi.Constr *Awaiting Model Update*>,\n",
       " (1, 1): <gurobi.Constr *Awaiting Model Update*>,\n",
       " (1, 2): <gurobi.Constr *Awaiting Model Update*>,\n",
       " (1, 3): <gurobi.Constr *Awaiting Model Update*>,\n",
       " (1, 4): <gurobi.Constr *Awaiting Model Update*>,\n",
       " (2, 0): <gurobi.Constr *Awaiting Model Update*>,\n",
       " (2, 1): <gurobi.Constr *Awaiting Model Update*>,\n",
       " (2, 2): <gurobi.Constr *Awaiting Model Update*>,\n",
       " (2, 3): <gurobi.Constr *Awaiting Model Update*>,\n",
       " (2, 4): <gurobi.Constr *Awaiting Model Update*>,\n",
       " (3, 0): <gurobi.Constr *Awaiting Model Update*>,\n",
       " (3, 1): <gurobi.Constr *Awaiting Model Update*>,\n",
       " (3, 2): <gurobi.Constr *Awaiting Model Update*>,\n",
       " (3, 3): <gurobi.Constr *Awaiting Model Update*>,\n",
       " (3, 4): <gurobi.Constr *Awaiting Model Update*>,\n",
       " (4, 0): <gurobi.Constr *Awaiting Model Update*>,\n",
       " (4, 1): <gurobi.Constr *Awaiting Model Update*>,\n",
       " (4, 2): <gurobi.Constr *Awaiting Model Update*>,\n",
       " (4, 3): <gurobi.Constr *Awaiting Model Update*>,\n",
       " (4, 4): <gurobi.Constr *Awaiting Model Update*>}"
      ]
     },
     "execution_count": 123,
     "metadata": {},
     "output_type": "execute_result"
    }
   ],
   "source": [
    "# 制約\n",
    "## Σx_ij = N_i\n",
    "model.addConstrs((quicksum(x_ij[i, j] for j in range(5)) - N_i[i] == 0 for i in range(5)))\n",
    "\n",
    "## Σx_ij = N_j\n",
    "model.addConstrs((quicksum(x_ij[i, j] for i in range(5)) - N_j[j] == 0 for j in range(5)))\n",
    "\n",
    "## x_ij >= 0\n",
    "model.addConstrs((x_ij[i, j] >= 0 for j in range(5) for i in range(5)))\n",
    "\n",
    "# d\n",
    "model.addConstrs(d_ij[i, j] == math.sqrt((G_i[i]-G_j[j])**2/s_G+(M_i[i]-M_j[j])**2/s_M) for i in range(5) for j in range(5))"
   ]
  },
  {
   "cell_type": "code",
   "execution_count": 124,
   "metadata": {},
   "outputs": [
    {
     "name": "stdout",
     "output_type": "stream",
     "text": [
      "Gurobi Optimizer version 10.0.3 build v10.0.3rc0 (mac64[rosetta2])\n",
      "\n",
      "CPU model: Apple M1\n",
      "Thread count: 8 physical cores, 8 logical processors, using up to 8 threads\n",
      "\n",
      "Optimize a model with 60 rows, 50 columns and 100 nonzeros\n",
      "Model fingerprint: 0xf6de555c\n",
      "Model has 25 quadratic objective terms\n",
      "Variable types: 25 continuous, 25 integer (0 binary)\n",
      "Coefficient statistics:\n",
      "  Matrix range     [1e+00, 1e+00]\n",
      "  Objective range  [0e+00, 0e+00]\n",
      "  QObjective range [2e+00, 2e+00]\n",
      "  Bounds range     [0e+00, 0e+00]\n",
      "  RHS range        [1e-01, 3e+01]\n",
      "Found heuristic solution: objective 252.9675974\n",
      "Presolve removed 50 rows and 25 columns\n",
      "Presolve time: 0.00s\n",
      "Presolved: 10 rows, 25 columns, 50 nonzeros\n",
      "Variable types: 0 continuous, 25 integer (0 binary)\n",
      "\n",
      "Root relaxation: objective 1.442615e+02, 7 iterations, 0.00 seconds (0.00 work units)\n",
      "\n",
      "    Nodes    |    Current Node    |     Objective Bounds      |     Work\n",
      " Expl Unexpl |  Obj  Depth IntInf | Incumbent    BestBd   Gap | It/Node Time\n",
      "\n",
      "*    0     0               0     144.2614866  144.26149  0.00%     -    0s\n",
      "\n",
      "Explored 1 nodes (7 simplex iterations) in 0.01 seconds (0.00 work units)\n",
      "Thread count was 8 (of 8 available processors)\n",
      "\n",
      "Solution count 2: 144.261 252.968 \n",
      "\n",
      "Optimal solution found (tolerance 1.00e-04)\n",
      "Best objective 1.442614865522e+02, best bound 1.442614865522e+02, gap 0.0000%\n"
     ]
    }
   ],
   "source": [
    "model.setObjective(quicksum(d_ij[i,j]*x_ij[i,j] for i in range(5) for j in range(5)),GRB.MINIMIZE); #目的関数の追加\n",
    "\n",
    "model.optimize()"
   ]
  },
  {
   "cell_type": "code",
   "execution_count": 125,
   "metadata": {},
   "outputs": [
    {
     "name": "stdout",
     "output_type": "stream",
     "text": [
      "Opt.value= 144.26148655218032\n"
     ]
    }
   ],
   "source": [
    "#最適値の出力\n",
    "print(\"Opt.value=\",model.objval)"
   ]
  },
  {
   "cell_type": "code",
   "execution_count": 126,
   "metadata": {},
   "outputs": [
    {
     "name": "stdout",
     "output_type": "stream",
     "text": [
      "x_ij[ 0 ][ 0 ]= 20.0\n",
      "x_ij[ 0 ][ 1 ]= -0.0\n",
      "x_ij[ 0 ][ 2 ]= -0.0\n",
      "x_ij[ 0 ][ 3 ]= -0.0\n",
      "x_ij[ 0 ][ 4 ]= -0.0\n",
      "x_ij[ 1 ][ 0 ]= -0.0\n",
      "x_ij[ 1 ][ 1 ]= 30.0\n",
      "x_ij[ 1 ][ 2 ]= -0.0\n",
      "x_ij[ 1 ][ 3 ]= -0.0\n",
      "x_ij[ 1 ][ 4 ]= -0.0\n",
      "x_ij[ 2 ][ 0 ]= -0.0\n",
      "x_ij[ 2 ][ 1 ]= -0.0\n",
      "x_ij[ 2 ][ 2 ]= -0.0\n",
      "x_ij[ 2 ][ 3 ]= -0.0\n",
      "x_ij[ 2 ][ 4 ]= 25.0\n",
      "x_ij[ 3 ][ 0 ]= -0.0\n",
      "x_ij[ 3 ][ 1 ]= -0.0\n",
      "x_ij[ 3 ][ 2 ]= -0.0\n",
      "x_ij[ 3 ][ 3 ]= 18.0\n",
      "x_ij[ 3 ][ 4 ]= 0.0\n",
      "x_ij[ 4 ][ 0 ]= 5.0\n",
      "x_ij[ 4 ][ 1 ]= -0.0\n",
      "x_ij[ 4 ][ 2 ]= 18.0\n",
      "x_ij[ 4 ][ 3 ]= 9.0\n",
      "x_ij[ 4 ][ 4 ]= -0.0\n"
     ]
    }
   ],
   "source": [
    "for i in range(5): #最適解の出力\n",
    "    for j in range(5):\n",
    "        print(\"x_ij[\",i,\"][\",j,\"]=\",x_ij[i,j].X)"
   ]
  },
  {
   "cell_type": "code",
   "execution_count": 127,
   "metadata": {},
   "outputs": [
    {
     "name": "stdout",
     "output_type": "stream",
     "text": [
      "[20.0, 12500.0, 4]\n",
      "[30.0, 15250.0, 2]\n",
      "[25.0, 20000.0, 5]\n",
      "[18.0, 25000.0, 4]\n",
      "[5.0, 15000.0, 4]\n",
      "[18.0, 17500.0, 3]\n",
      "[9.0, 20000.0, 3]\n"
     ]
    }
   ],
   "source": [
    "for i in range(5):\n",
    "    for j in range(5):\n",
    "        if (x_ij[i, j].X > 0):\n",
    "            print([x_ij[i, j].X, (G_i[i]+G_j[j])/2, max(M_i[i], M_j[j])])"
   ]
  },
  {
   "cell_type": "markdown",
   "metadata": {},
   "source": [
    "## Exercize2"
   ]
  },
  {
   "cell_type": "code",
   "execution_count": 146,
   "metadata": {},
   "outputs": [
    {
     "name": "stdout",
     "output_type": "stream",
     "text": [
      "[10000 15500 20000 25000 15000]\n",
      "[15000 15000 20000 25000 20000]\n",
      "[0, 4, 1, 2, 3]\n",
      "[0, 1, 2, 4, 3]\n",
      "0\n",
      "0\n",
      "0\n",
      "1\n",
      "1\n",
      "2\n",
      "2\n",
      "2\n",
      "3\n",
      "4\n",
      "4\n",
      "{(4, 4), (2, 1), (0, 0), (4, 3), (1, 1), (2, 3), (3, 3), (2, 2), (1, 0)}\n",
      "[20, 5, 25, 5, 18, 2, 18, 7, 25]\n"
     ]
    }
   ],
   "source": [
    "## No. of Families\n",
    "N_i = IncomeData[:, 0].astype(int)\n",
    "N_j = PopulationData[:, 0].astype(int)\n",
    "\n",
    "## Gross Family Income\n",
    "G_i = IncomeData[:, 1].astype(int)\n",
    "G_j = PopulationData[:, 1].astype(int)\n",
    "print(G_i)\n",
    "print(G_j)\n",
    "\n",
    "sorted_indices_i = sorted(range(len(G_i)), key=lambda k: G_i[k])\n",
    "sorted_indices_j = sorted(range(len(G_j)), key=lambda k: G_j[k])\n",
    "print(sorted_indices_i)\n",
    "print(sorted_indices_j)\n",
    "\n",
    "S = set()\n",
    "x_ij_star_array = []\n",
    "\n",
    "\n",
    "i_star = next((index for index, value in enumerate(N_i) if value > 0), None)\n",
    "j_star = next((index for index, value in enumerate(N_j) if value > 0), None)\n",
    "print(i_star)\n",
    "print(j_star)\n",
    "\n",
    "while i_star is not None and j_star is not None:\n",
    "    print(i_star)\n",
    "    N_star = min(N_i[i_star], N_j[j_star])\n",
    "    x_ij_star = N_star\n",
    "    N_i[i_star] -= N_star\n",
    "    N_j[j_star] -= N_star\n",
    "    S.add((i_star, j_star))\n",
    "    x_ij_star_array.append(x_ij_star)\n",
    "    i_star = next((index for index, value in enumerate(N_i) if value > 0), None)\n",
    "    j_star = next((index for index, value in enumerate(N_j) if value > 0), None)\n",
    "\n",
    "\n",
    "print(S)\n",
    "print(x_ij_star_array)"
   ]
  },
  {
   "cell_type": "code",
   "execution_count": 129,
   "metadata": {},
   "outputs": [
    {
     "ename": "IndexError",
     "evalue": "invalid index to scalar variable.",
     "output_type": "error",
     "traceback": [
      "\u001b[0;31m---------------------------------------------------------------------------\u001b[0m",
      "\u001b[0;31mIndexError\u001b[0m                                Traceback (most recent call last)",
      "Cell \u001b[0;32mIn[129], line 6\u001b[0m\n\u001b[1;32m      2\u001b[0m model \u001b[38;5;241m=\u001b[39m Model()\n\u001b[1;32m      4\u001b[0m \u001b[38;5;66;03m# 制約\u001b[39;00m\n\u001b[1;32m      5\u001b[0m \u001b[38;5;66;03m## Σx_ij = N_i\u001b[39;00m\n\u001b[0;32m----> 6\u001b[0m \u001b[43mmodel\u001b[49m\u001b[38;5;241;43m.\u001b[39;49m\u001b[43maddConstrs\u001b[49m\u001b[43m(\u001b[49m\u001b[43m(\u001b[49m\u001b[43mquicksum\u001b[49m\u001b[43m(\u001b[49m\u001b[43mx_ij\u001b[49m\u001b[43m[\u001b[49m\u001b[43mi\u001b[49m\u001b[43m,\u001b[49m\u001b[43m \u001b[49m\u001b[43mj\u001b[49m\u001b[43m]\u001b[49m\u001b[43m \u001b[49m\u001b[38;5;28;43;01mfor\u001b[39;49;00m\u001b[43m \u001b[49m\u001b[43mj\u001b[49m\u001b[43m \u001b[49m\u001b[38;5;129;43;01min\u001b[39;49;00m\u001b[43m \u001b[49m\u001b[38;5;28;43mrange\u001b[39;49m\u001b[43m(\u001b[49m\u001b[38;5;241;43m5\u001b[39;49m\u001b[43m)\u001b[49m\u001b[43m)\u001b[49m\u001b[43m \u001b[49m\u001b[38;5;241;43m-\u001b[39;49m\u001b[43m \u001b[49m\u001b[43mN_i\u001b[49m\u001b[43m[\u001b[49m\u001b[43mi\u001b[49m\u001b[43m]\u001b[49m\u001b[43m \u001b[49m\u001b[38;5;241;43m==\u001b[39;49m\u001b[43m \u001b[49m\u001b[38;5;241;43m0\u001b[39;49m\u001b[43m \u001b[49m\u001b[38;5;28;43;01mfor\u001b[39;49;00m\u001b[43m \u001b[49m\u001b[43mi\u001b[49m\u001b[43m \u001b[49m\u001b[38;5;129;43;01min\u001b[39;49;00m\u001b[43m \u001b[49m\u001b[38;5;28;43mrange\u001b[39;49m\u001b[43m(\u001b[49m\u001b[38;5;241;43m5\u001b[39;49m\u001b[43m)\u001b[49m\u001b[43m)\u001b[49m\u001b[43m)\u001b[49m\n\u001b[1;32m      8\u001b[0m \u001b[38;5;66;03m## Σx_ij = N_j\u001b[39;00m\n\u001b[1;32m      9\u001b[0m model\u001b[38;5;241m.\u001b[39maddConstrs((quicksum(x_ij[i, j] \u001b[38;5;28;01mfor\u001b[39;00m i \u001b[38;5;129;01min\u001b[39;00m \u001b[38;5;28mrange\u001b[39m(\u001b[38;5;241m5\u001b[39m)) \u001b[38;5;241m-\u001b[39m N_j[j] \u001b[38;5;241m==\u001b[39m \u001b[38;5;241m0\u001b[39m \u001b[38;5;28;01mfor\u001b[39;00m j \u001b[38;5;129;01min\u001b[39;00m \u001b[38;5;28mrange\u001b[39m(\u001b[38;5;241m5\u001b[39m)))\n",
      "File \u001b[0;32msrc/gurobipy/model.pxi:3712\u001b[0m, in \u001b[0;36mgurobipy.Model.addConstrs\u001b[0;34m()\u001b[0m\n",
      "Cell \u001b[0;32mIn[129], line 6\u001b[0m, in \u001b[0;36m<genexpr>\u001b[0;34m(.0)\u001b[0m\n\u001b[1;32m      2\u001b[0m model \u001b[38;5;241m=\u001b[39m Model()\n\u001b[1;32m      4\u001b[0m \u001b[38;5;66;03m# 制約\u001b[39;00m\n\u001b[1;32m      5\u001b[0m \u001b[38;5;66;03m## Σx_ij = N_i\u001b[39;00m\n\u001b[0;32m----> 6\u001b[0m model\u001b[38;5;241m.\u001b[39maddConstrs((\u001b[43mquicksum\u001b[49m\u001b[43m(\u001b[49m\u001b[43mx_ij\u001b[49m\u001b[43m[\u001b[49m\u001b[43mi\u001b[49m\u001b[43m,\u001b[49m\u001b[43m \u001b[49m\u001b[43mj\u001b[49m\u001b[43m]\u001b[49m\u001b[43m \u001b[49m\u001b[38;5;28;43;01mfor\u001b[39;49;00m\u001b[43m \u001b[49m\u001b[43mj\u001b[49m\u001b[43m \u001b[49m\u001b[38;5;129;43;01min\u001b[39;49;00m\u001b[43m \u001b[49m\u001b[38;5;28;43mrange\u001b[39;49m\u001b[43m(\u001b[49m\u001b[38;5;241;43m5\u001b[39;49m\u001b[43m)\u001b[49m\u001b[43m)\u001b[49m \u001b[38;5;241m-\u001b[39m N_i[i] \u001b[38;5;241m==\u001b[39m \u001b[38;5;241m0\u001b[39m \u001b[38;5;28;01mfor\u001b[39;00m i \u001b[38;5;129;01min\u001b[39;00m \u001b[38;5;28mrange\u001b[39m(\u001b[38;5;241m5\u001b[39m)))\n\u001b[1;32m      8\u001b[0m \u001b[38;5;66;03m## Σx_ij = N_j\u001b[39;00m\n\u001b[1;32m      9\u001b[0m model\u001b[38;5;241m.\u001b[39maddConstrs((quicksum(x_ij[i, j] \u001b[38;5;28;01mfor\u001b[39;00m i \u001b[38;5;129;01min\u001b[39;00m \u001b[38;5;28mrange\u001b[39m(\u001b[38;5;241m5\u001b[39m)) \u001b[38;5;241m-\u001b[39m N_j[j] \u001b[38;5;241m==\u001b[39m \u001b[38;5;241m0\u001b[39m \u001b[38;5;28;01mfor\u001b[39;00m j \u001b[38;5;129;01min\u001b[39;00m \u001b[38;5;28mrange\u001b[39m(\u001b[38;5;241m5\u001b[39m)))\n",
      "File \u001b[0;32msrc/gurobipy/gurobi.pxi:3706\u001b[0m, in \u001b[0;36mgurobipy.quicksum\u001b[0;34m()\u001b[0m\n",
      "Cell \u001b[0;32mIn[129], line 6\u001b[0m, in \u001b[0;36m<genexpr>\u001b[0;34m(.0)\u001b[0m\n\u001b[1;32m      2\u001b[0m model \u001b[38;5;241m=\u001b[39m Model()\n\u001b[1;32m      4\u001b[0m \u001b[38;5;66;03m# 制約\u001b[39;00m\n\u001b[1;32m      5\u001b[0m \u001b[38;5;66;03m## Σx_ij = N_i\u001b[39;00m\n\u001b[0;32m----> 6\u001b[0m model\u001b[38;5;241m.\u001b[39maddConstrs((quicksum(\u001b[43mx_ij\u001b[49m\u001b[43m[\u001b[49m\u001b[43mi\u001b[49m\u001b[43m,\u001b[49m\u001b[43m \u001b[49m\u001b[43mj\u001b[49m\u001b[43m]\u001b[49m \u001b[38;5;28;01mfor\u001b[39;00m j \u001b[38;5;129;01min\u001b[39;00m \u001b[38;5;28mrange\u001b[39m(\u001b[38;5;241m5\u001b[39m)) \u001b[38;5;241m-\u001b[39m N_i[i] \u001b[38;5;241m==\u001b[39m \u001b[38;5;241m0\u001b[39m \u001b[38;5;28;01mfor\u001b[39;00m i \u001b[38;5;129;01min\u001b[39;00m \u001b[38;5;28mrange\u001b[39m(\u001b[38;5;241m5\u001b[39m)))\n\u001b[1;32m      8\u001b[0m \u001b[38;5;66;03m## Σx_ij = N_j\u001b[39;00m\n\u001b[1;32m      9\u001b[0m model\u001b[38;5;241m.\u001b[39maddConstrs((quicksum(x_ij[i, j] \u001b[38;5;28;01mfor\u001b[39;00m i \u001b[38;5;129;01min\u001b[39;00m \u001b[38;5;28mrange\u001b[39m(\u001b[38;5;241m5\u001b[39m)) \u001b[38;5;241m-\u001b[39m N_j[j] \u001b[38;5;241m==\u001b[39m \u001b[38;5;241m0\u001b[39m \u001b[38;5;28;01mfor\u001b[39;00m j \u001b[38;5;129;01min\u001b[39;00m \u001b[38;5;28mrange\u001b[39m(\u001b[38;5;241m5\u001b[39m)))\n",
      "\u001b[0;31mIndexError\u001b[0m: invalid index to scalar variable."
     ]
    }
   ],
   "source": [
    "# model\n",
    "model = Model()\n",
    "\n",
    "# 制約\n",
    "## Σx_ij = N_i\n",
    "model.addConstrs((quicksum(x_ij[i, j] for j in range(5)) - N_i[i] == 0 for i in range(5)))\n",
    "\n",
    "## Σx_ij = N_j\n",
    "model.addConstrs((quicksum(x_ij[i, j] for i in range(5)) - N_j[j] == 0 for j in range(5)))\n",
    "\n",
    "# d\n",
    "model.addConstrs(d_ij[i, j] == math.sqrt((G_i[i]-G_j[j])**2/s_G+(M_i[i]-M_j[j])**2/s_M) for i in range(5) for j in range(5))\n",
    "\n",
    "#目的関数の追加\n",
    "model.setObjective(quicksum(d_ij[i,j]*x_ij[i,j] for i in range(5) for j in range(5)),GRB.MINIMIZE)\n",
    "model.optimize()"
   ]
  },
  {
   "cell_type": "code",
   "execution_count": null,
   "metadata": {},
   "outputs": [],
   "source": [
    "SearchCount = 0\n",
    "CandidateCount = 0\n",
    "\n",
    "while SearchCount < len(I) * len(J):\n",
    "    if i_star is not None and j_star is not None:\n",
    "        if condition(i_star, j_star):\n",
    "            S.add((i_star, j_star))\n",
    "            CandidateCount += 1\n",
    "\n",
    "        # Increment i* and j*\n",
    "        j_star += 1\n",
    "        if j_star >= len(J):\n",
    "            j_star = 0\n",
    "            i_star = next((x for x in I if x > i_star), None)\n",
    "            SearchCount += 1\n",
    "    else:\n",
    "        break\n"
   ]
  }
 ],
 "metadata": {
  "kernelspec": {
   "display_name": "base",
   "language": "python",
   "name": "python3"
  },
  "language_info": {
   "codemirror_mode": {
    "name": "ipython",
    "version": 3
   },
   "file_extension": ".py",
   "mimetype": "text/x-python",
   "name": "python",
   "nbconvert_exporter": "python",
   "pygments_lexer": "ipython3",
   "version": "3.10.9"
  }
 },
 "nbformat": 4,
 "nbformat_minor": 2
}
