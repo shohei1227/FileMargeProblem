{
 "cells": [
  {
   "cell_type": "markdown",
   "metadata": {},
   "source": [
    "# AIMMS Chap.19\n",
    "**2024.01.24**"
   ]
  },
  {
   "cell_type": "code",
   "execution_count": 5,
   "metadata": {},
   "outputs": [],
   "source": [
    "# Import\n",
    "import numpy as np\n",
    "import pandas as pd\n",
    "\n",
    "from gurobipy import Model, GRB, quicksum"
   ]
  },
  {
   "cell_type": "code",
   "execution_count": 2,
   "metadata": {},
   "outputs": [],
   "source": [
    "# Dataの定義\n",
    "IncomeData = np.array([\n",
    "    [20, 10000, 3, \"Commerce\", 0],\n",
    "    [30, 15500, 2, \"Agriculture\", 1000], \n",
    "    [25, 20000, 5, \"Agriculture\", 1000], \n",
    "    [18, 25000, 4, \"Commerce\", 3000],\n",
    "    [32, 15000, 3, \"Commerce\", 500]\n",
    "    ])\n",
    "\n",
    "PopulationData = np.array([\n",
    "    [25, 15000, 4, 40, 12, \"M\", 2],\n",
    "    [30, 15000, 2, 25, 16, \"M\", 0],\n",
    "    [18, 20000, 1, 30, 18, \"F\", 0],\n",
    "    [27, 25000, 2, 35, 16, \"F\", 1],\n",
    "    [25, 20000, 4, 25, 12, \"M\", 1],\n",
    "    ])"
   ]
  },
  {
   "cell_type": "code",
   "execution_count": 4,
   "metadata": {},
   "outputs": [
    {
     "data": {
      "text/html": [
       "<div>\n",
       "<style scoped>\n",
       "    .dataframe tbody tr th:only-of-type {\n",
       "        vertical-align: middle;\n",
       "    }\n",
       "\n",
       "    .dataframe tbody tr th {\n",
       "        vertical-align: top;\n",
       "    }\n",
       "\n",
       "    .dataframe thead th {\n",
       "        text-align: right;\n",
       "    }\n",
       "</style>\n",
       "<table border=\"1\" class=\"dataframe\">\n",
       "  <thead>\n",
       "    <tr style=\"text-align: right;\">\n",
       "      <th></th>\n",
       "      <th>No. of Families</th>\n",
       "      <th>Gross Family Income</th>\n",
       "      <th>No. of Familiy Members</th>\n",
       "      <th>Source of Income</th>\n",
       "      <th>Interest Income</th>\n",
       "    </tr>\n",
       "  </thead>\n",
       "  <tbody>\n",
       "    <tr>\n",
       "      <th>0</th>\n",
       "      <td>20</td>\n",
       "      <td>10000</td>\n",
       "      <td>3</td>\n",
       "      <td>Commerce</td>\n",
       "      <td>0</td>\n",
       "    </tr>\n",
       "    <tr>\n",
       "      <th>1</th>\n",
       "      <td>30</td>\n",
       "      <td>15500</td>\n",
       "      <td>2</td>\n",
       "      <td>Agriculture</td>\n",
       "      <td>1000</td>\n",
       "    </tr>\n",
       "    <tr>\n",
       "      <th>2</th>\n",
       "      <td>25</td>\n",
       "      <td>20000</td>\n",
       "      <td>5</td>\n",
       "      <td>Agriculture</td>\n",
       "      <td>1000</td>\n",
       "    </tr>\n",
       "    <tr>\n",
       "      <th>3</th>\n",
       "      <td>18</td>\n",
       "      <td>25000</td>\n",
       "      <td>4</td>\n",
       "      <td>Commerce</td>\n",
       "      <td>3000</td>\n",
       "    </tr>\n",
       "    <tr>\n",
       "      <th>4</th>\n",
       "      <td>32</td>\n",
       "      <td>15000</td>\n",
       "      <td>3</td>\n",
       "      <td>Commerce</td>\n",
       "      <td>500</td>\n",
       "    </tr>\n",
       "  </tbody>\n",
       "</table>\n",
       "</div>"
      ],
      "text/plain": [
       "  No. of Families Gross Family Income No. of Familiy Members Source of Income  \\\n",
       "0              20               10000                      3         Commerce   \n",
       "1              30               15500                      2      Agriculture   \n",
       "2              25               20000                      5      Agriculture   \n",
       "3              18               25000                      4         Commerce   \n",
       "4              32               15000                      3         Commerce   \n",
       "\n",
       "  Interest Income  \n",
       "0               0  \n",
       "1            1000  \n",
       "2            1000  \n",
       "3            3000  \n",
       "4             500  "
      ]
     },
     "execution_count": 4,
     "metadata": {},
     "output_type": "execute_result"
    }
   ],
   "source": [
    "pd.DataFrame(IncomeData, columns=[\"No. of Families\", \"Gross Family Income\", \"No. of Familiy Members\", \"Source of Income\", \"Interest Income\"])"
   ]
  },
  {
   "cell_type": "code",
   "execution_count": 3,
   "metadata": {},
   "outputs": [
    {
     "data": {
      "text/html": [
       "<div>\n",
       "<style scoped>\n",
       "    .dataframe tbody tr th:only-of-type {\n",
       "        vertical-align: middle;\n",
       "    }\n",
       "\n",
       "    .dataframe tbody tr th {\n",
       "        vertical-align: top;\n",
       "    }\n",
       "\n",
       "    .dataframe thead th {\n",
       "        text-align: right;\n",
       "    }\n",
       "</style>\n",
       "<table border=\"1\" class=\"dataframe\">\n",
       "  <thead>\n",
       "    <tr style=\"text-align: right;\">\n",
       "      <th></th>\n",
       "      <th>No. of Families</th>\n",
       "      <th>Gross Family Income</th>\n",
       "      <th>No. of Familiy Members</th>\n",
       "      <th>Head of Household(Age)</th>\n",
       "      <th>Head of Household(Education)</th>\n",
       "      <th>Head of Household(Sex)</th>\n",
       "      <th>No. of Familiy Members Under 18</th>\n",
       "    </tr>\n",
       "  </thead>\n",
       "  <tbody>\n",
       "    <tr>\n",
       "      <th>0</th>\n",
       "      <td>25</td>\n",
       "      <td>15000</td>\n",
       "      <td>4</td>\n",
       "      <td>40</td>\n",
       "      <td>12</td>\n",
       "      <td>M</td>\n",
       "      <td>2</td>\n",
       "    </tr>\n",
       "    <tr>\n",
       "      <th>1</th>\n",
       "      <td>30</td>\n",
       "      <td>15000</td>\n",
       "      <td>2</td>\n",
       "      <td>25</td>\n",
       "      <td>16</td>\n",
       "      <td>M</td>\n",
       "      <td>0</td>\n",
       "    </tr>\n",
       "    <tr>\n",
       "      <th>2</th>\n",
       "      <td>18</td>\n",
       "      <td>20000</td>\n",
       "      <td>1</td>\n",
       "      <td>30</td>\n",
       "      <td>18</td>\n",
       "      <td>F</td>\n",
       "      <td>0</td>\n",
       "    </tr>\n",
       "    <tr>\n",
       "      <th>3</th>\n",
       "      <td>27</td>\n",
       "      <td>25000</td>\n",
       "      <td>2</td>\n",
       "      <td>35</td>\n",
       "      <td>16</td>\n",
       "      <td>F</td>\n",
       "      <td>1</td>\n",
       "    </tr>\n",
       "    <tr>\n",
       "      <th>4</th>\n",
       "      <td>25</td>\n",
       "      <td>20000</td>\n",
       "      <td>4</td>\n",
       "      <td>25</td>\n",
       "      <td>12</td>\n",
       "      <td>M</td>\n",
       "      <td>1</td>\n",
       "    </tr>\n",
       "  </tbody>\n",
       "</table>\n",
       "</div>"
      ],
      "text/plain": [
       "  No. of Families Gross Family Income No. of Familiy Members  \\\n",
       "0              25               15000                      4   \n",
       "1              30               15000                      2   \n",
       "2              18               20000                      1   \n",
       "3              27               25000                      2   \n",
       "4              25               20000                      4   \n",
       "\n",
       "  Head of Household(Age) Head of Household(Education) Head of Household(Sex)  \\\n",
       "0                     40                           12                      M   \n",
       "1                     25                           16                      M   \n",
       "2                     30                           18                      F   \n",
       "3                     35                           16                      F   \n",
       "4                     25                           12                      M   \n",
       "\n",
       "  No. of Familiy Members Under 18  \n",
       "0                               2  \n",
       "1                               0  \n",
       "2                               0  \n",
       "3                               1  \n",
       "4                               1  "
      ]
     },
     "execution_count": 3,
     "metadata": {},
     "output_type": "execute_result"
    }
   ],
   "source": [
    "pd.DataFrame(PopulationData, columns=[\"No. of Families\", \"Gross Family Income\", \"No. of Familiy Members\", \"Head of Household(Age)\", \"Head of Household(Education)\", \"Head of Household(Sex)\", \"No. of Familiy Members Under 18\"])"
   ]
  },
  {
   "cell_type": "code",
   "execution_count": null,
   "metadata": {},
   "outputs": [],
   "source": [
    "# Indices\n"
   ]
  },
  {
   "cell_type": "code",
   "execution_count": null,
   "metadata": {},
   "outputs": [],
   "source": [
    "# 距離の計算\n",
    "\"\"\"\n",
    "    calcDistance\n",
    "\n",
    "\"\"\"\n",
    "def calcDistance(G, M, s_G, s_M):\n",
    "    return \n",
    "    "
   ]
  },
  {
   "cell_type": "code",
   "execution_count": null,
   "metadata": {},
   "outputs": [],
   "source": [
    "def main_ex1():\n",
    "    return"
   ]
  },
  {
   "cell_type": "code",
   "execution_count": null,
   "metadata": {},
   "outputs": [],
   "source": [
    "def main_ex2():\n",
    "    return"
   ]
  },
  {
   "cell_type": "code",
   "execution_count": null,
   "metadata": {},
   "outputs": [],
   "source": [
    "if __name__ == \"__main__\":\n",
    "    main_ex1()\n",
    "    # main_ex2()"
   ]
  }
 ],
 "metadata": {
  "kernelspec": {
   "display_name": "base",
   "language": "python",
   "name": "python3"
  },
  "language_info": {
   "codemirror_mode": {
    "name": "ipython",
    "version": 3
   },
   "file_extension": ".py",
   "mimetype": "text/x-python",
   "name": "python",
   "nbconvert_exporter": "python",
   "pygments_lexer": "ipython3",
   "version": "3.10.9"
  }
 },
 "nbformat": 4,
 "nbformat_minor": 2
}
